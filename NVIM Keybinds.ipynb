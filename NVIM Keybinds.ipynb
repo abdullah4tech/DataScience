{
 "cells": [
  {
   "cell_type": "code",
   "execution_count": 1,
   "id": "f2d75e65-e95f-45d7-a8fa-2b5714206921",
   "metadata": {},
   "outputs": [],
   "source": [
    "import pandas as pd"
   ]
  },
  {
   "cell_type": "code",
   "execution_count": 2,
   "id": "a93d0ca5-0ef0-45a4-9d12-c922fa1dcc61",
   "metadata": {},
   "outputs": [],
   "source": [
    "# Define the data for Neovim commands\n",
    "data = {\n",
    "    \"Key Combination\": [\n",
    "        \"h\", \"j\", \"k\", \"l\", \"w\", \"e\", \"b\", \"0\", \"^\", \"$\", \"gg\", \"G\", \"Ctrl-d\", \"Ctrl-u\",\n",
    "        \"Ctrl-f\", \"Ctrl-b\", \"i\", \"I\", \"a\", \"A\", \"o\", \"O\", \"Esc\", \"x\", \"X\", \"dd\", \"dw\", \n",
    "        \"d$\", \"d^\", \"yy\", \"yw\", \"y$\", \"p\", \"P\", \"u\", \"Ctrl-r\", \"v\", \"V\", \"Ctrl-v\", \"o\", \n",
    "        \"Esc\", \"/text\", \"?text\", \"n\", \"N\", \":%s/old/new/g\", \":sp\", \":vsp\", \"Ctrl-w h\",\n",
    "        \"Ctrl-w l\", \"Ctrl-w k\", \"Ctrl-w j\", \"Ctrl-w q\", \"Ctrl-w =\", \":tabnew\", \":tabn\",\n",
    "        \":tabp\", \":tabclose\", \":w\", \":wq\", \":q\", \":q!\", \":e filename\", \":r filename\",\n",
    "        \":bnext\", \":bprev\", \":bd\", \":ls\"\n",
    "    ],\n",
    "    \"Meaning\": [\n",
    "        \"Move left\", \"Move down\", \"Move up\", \"Move right\", \"Jump to the start of the next word\",\n",
    "        \"Jump to the end of the current word\", \"Jump to the start of the previous word\",\n",
    "        \"Jump to the start of the current line\", \"Jump to the first non-blank character of the line\",\n",
    "        \"Jump to the end of the line\", \"Jump to the beginning of the file\", \"Jump to the end of the file\",\n",
    "        \"Scroll down half a page\", \"Scroll up half a page\", \"Scroll forward one page\",\n",
    "        \"Scroll backward one page\", \"Enter Insert mode before the cursor\", \n",
    "        \"Enter Insert mode at the beginning of the line\", \"Enter Insert mode after the cursor\",\n",
    "        \"Enter Insert mode at the end of the line\", \"Insert a new line below the current line\",\n",
    "        \"Insert a new line above the current line\", \"Exit Insert mode back to Normal mode\",\n",
    "        \"Delete the character under the cursor\", \"Delete the character before the cursor\",\n",
    "        \"Delete the current line\", \"Delete from the cursor to the end of the current word\",\n",
    "        \"Delete from the cursor to the end of the line\", \n",
    "        \"Delete from the cursor to the beginning of the line\",\n",
    "        \"Copy (yank) the current line\", \"Copy (yank) from the cursor to the end of the current word\",\n",
    "        \"Copy (yank) from the cursor to the end of the line\", \"Paste the copied text after the cursor\",\n",
    "        \"Paste the copied text before the cursor\", \"Undo the last change\", \n",
    "        \"Redo the last undone change\", \"Enter Visual mode (select text)\", \"Enter Visual Line mode\",\n",
    "        \"Enter Visual Block mode\", \"Move to the opposite end of the selection\", \n",
    "        \"Exit Visual mode\", \"Search forward for 'text'\", \"Search backward for 'text'\",\n",
    "        \"Repeat the search forward\", \"Repeat the search backward\", \n",
    "        \"Replace all occurrences of 'old' with 'new' in the file\", \"Split window horizontally\",\n",
    "        \"Split window vertically\", \"Move to the left split\", \"Move to the right split\",\n",
    "        \"Move to the upper split\", \"Move to the lower split\", \"Close the current split\",\n",
    "        \"Make all splits equal size\", \"Open a new tab\", \"Move to the next tab\", \n",
    "        \"Move to the previous tab\", \"Close the current tab\", \"Save the current file\", \n",
    "        \"Save and quit\", \"Quit (close file)\", \"Quit without saving changes\",\n",
    "        \"Open 'filename'\", \"Read the contents of 'filename' into the current file\",\n",
    "        \"Move to the next buffer\", \"Move to the previous buffer\", \"Delete the current buffer\",\n",
    "        \"List all open buffers\"\n",
    "    ]\n",
    "}\n"
   ]
  },
  {
   "cell_type": "code",
   "execution_count": 7,
   "id": "19237459-3324-4db7-9aad-ed0e89556818",
   "metadata": {},
   "outputs": [],
   "source": [
    "# Convert to DataFrame\n",
    "df = pd.DataFrame(data)"
   ]
  },
  {
   "cell_type": "code",
   "execution_count": 8,
   "id": "7344c6ff-7efc-4c78-b325-0caf4b65aa85",
   "metadata": {},
   "outputs": [],
   "source": [
    "df.to_csv('nvim/keybinds.csv', index_label=None)"
   ]
  },
  {
   "cell_type": "code",
   "execution_count": null,
   "id": "73fc350c-6707-4525-9b84-683d351f2ab3",
   "metadata": {},
   "outputs": [],
   "source": []
  }
 ],
 "metadata": {
  "kernelspec": {
   "display_name": "Python 3 (ipykernel)",
   "language": "python",
   "name": "python3"
  },
  "language_info": {
   "codemirror_mode": {
    "name": "ipython",
    "version": 3
   },
   "file_extension": ".py",
   "mimetype": "text/x-python",
   "name": "python",
   "nbconvert_exporter": "python",
   "pygments_lexer": "ipython3",
   "version": "3.10.12"
  }
 },
 "nbformat": 4,
 "nbformat_minor": 5
}
