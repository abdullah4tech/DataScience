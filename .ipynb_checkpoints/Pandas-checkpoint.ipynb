{
 "cells": [
  {
   "cell_type": "markdown",
   "id": "c845b01f-f38e-4c3b-83ee-3345369a5cf2",
   "metadata": {},
   "source": [
    "# Pandas "
   ]
  },
  {
   "cell_type": "markdown",
   "id": "c7a3b63a-3d98-4187-ab06-e5ddf1a16254",
   "metadata": {},
   "source": [
    "**What is Pandas?**\n"
   ]
  },
  {
   "cell_type": "code",
   "execution_count": 1,
   "id": "5c9908c0-3130-4f19-a81a-201357b1bfef",
   "metadata": {},
   "outputs": [],
   "source": [
    "import pandas as pd\n",
    "import numpy as np"
   ]
  },
  {
   "cell_type": "code",
   "execution_count": 2,
   "id": "4db09e98-595a-4c3a-8819-f7b5d0e5d97c",
   "metadata": {},
   "outputs": [],
   "source": [
    "data_set = np.arange(1, 500)"
   ]
  },
  {
   "cell_type": "code",
   "execution_count": 6,
   "id": "821be2d9-c7b5-4bd5-9ae7-90b76656c94f",
   "metadata": {},
   "outputs": [],
   "source": [
    "new_data = pd.Series(data_set)"
   ]
  },
  {
   "cell_type": "code",
   "execution_count": 7,
   "id": "ad8cfe2d-46da-467d-8edb-4276a1ef29eb",
   "metadata": {},
   "outputs": [
    {
     "data": {
      "text/plain": [
       "0        1\n",
       "1        2\n",
       "2        3\n",
       "3        4\n",
       "4        5\n",
       "      ... \n",
       "494    495\n",
       "495    496\n",
       "496    497\n",
       "497    498\n",
       "498    499\n",
       "Length: 499, dtype: int64"
      ]
     },
     "execution_count": 7,
     "metadata": {},
     "output_type": "execute_result"
    }
   ],
   "source": [
    "new_data"
   ]
  },
  {
   "cell_type": "code",
   "execution_count": 8,
   "id": "7b408d31-6b93-4127-a46b-6cef7117db4e",
   "metadata": {},
   "outputs": [],
   "source": [
    "SAC = np.arange(100, 1, -2)"
   ]
  },
  {
   "cell_type": "code",
   "execution_count": 9,
   "id": "158b50dc-2fe0-44f9-9366-ec0788fe22e1",
   "metadata": {},
   "outputs": [],
   "source": [
    "ser_ex = pd.Series(SAC)"
   ]
  },
  {
   "cell_type": "code",
   "execution_count": 10,
   "id": "bb9cef0a-4b6b-4162-9889-e641f5764c7f",
   "metadata": {},
   "outputs": [
    {
     "data": {
      "text/plain": [
       "0     100\n",
       "1      98\n",
       "2      96\n",
       "3      94\n",
       "4      92\n",
       "5      90\n",
       "6      88\n",
       "7      86\n",
       "8      84\n",
       "9      82\n",
       "10     80\n",
       "11     78\n",
       "12     76\n",
       "13     74\n",
       "14     72\n",
       "15     70\n",
       "16     68\n",
       "17     66\n",
       "18     64\n",
       "19     62\n",
       "20     60\n",
       "21     58\n",
       "22     56\n",
       "23     54\n",
       "24     52\n",
       "25     50\n",
       "26     48\n",
       "27     46\n",
       "28     44\n",
       "29     42\n",
       "30     40\n",
       "31     38\n",
       "32     36\n",
       "33     34\n",
       "34     32\n",
       "35     30\n",
       "36     28\n",
       "37     26\n",
       "38     24\n",
       "39     22\n",
       "40     20\n",
       "41     18\n",
       "42     16\n",
       "43     14\n",
       "44     12\n",
       "45     10\n",
       "46      8\n",
       "47      6\n",
       "48      4\n",
       "49      2\n",
       "dtype: int64"
      ]
     },
     "execution_count": 10,
     "metadata": {},
     "output_type": "execute_result"
    }
   ],
   "source": [
    "ser_ex"
   ]
  },
  {
   "cell_type": "code",
   "execution_count": 11,
   "id": "22ed0acb-33bc-4821-9270-1740513ea281",
   "metadata": {},
   "outputs": [
    {
     "data": {
      "text/plain": [
       "pandas.core.series.Series"
      ]
     },
     "execution_count": 11,
     "metadata": {},
     "output_type": "execute_result"
    }
   ],
   "source": [
    "type(ser_ex)"
   ]
  },
  {
   "cell_type": "code",
   "execution_count": 12,
   "id": "374b0556-4e05-4557-810f-3109977d8ec1",
   "metadata": {},
   "outputs": [],
   "source": [
    "ser1 = pd.Series([1,2,3,4], index=['USA', 'Germany', 'USSR', 'Japan'])"
   ]
  },
  {
   "cell_type": "code",
   "execution_count": 13,
   "id": "16076ae9-3625-4e9c-83c4-db25da5f5036",
   "metadata": {},
   "outputs": [
    {
     "data": {
      "text/plain": [
       "USA        1\n",
       "Germany    2\n",
       "USSR       3\n",
       "Japan      4\n",
       "dtype: int64"
      ]
     },
     "execution_count": 13,
     "metadata": {},
     "output_type": "execute_result"
    }
   ],
   "source": [
    "ser1"
   ]
  },
  {
   "cell_type": "markdown",
   "id": "614fb62c-9558-473a-a684-fc2a06646d6f",
   "metadata": {},
   "source": [
    "# Pandas Dataframe"
   ]
  },
  {
   "cell_type": "code",
   "execution_count": 29,
   "id": "9987af19-e277-4efc-b812-32a29d04d966",
   "metadata": {},
   "outputs": [],
   "source": [
    "#arr = np.random.randint(0, 100, (5, 4))\n",
    "arr = np.arange(0, 100)\n",
    "new_arr = arr.reshape(25, 4)"
   ]
  },
  {
   "cell_type": "code",
   "execution_count": 30,
   "id": "654084d1-7e8d-4ff7-92b4-8312f2b37de7",
   "metadata": {},
   "outputs": [
    {
     "data": {
      "text/plain": [
       "array([[ 0,  1,  2,  3],\n",
       "       [ 4,  5,  6,  7],\n",
       "       [ 8,  9, 10, 11],\n",
       "       [12, 13, 14, 15],\n",
       "       [16, 17, 18, 19],\n",
       "       [20, 21, 22, 23],\n",
       "       [24, 25, 26, 27],\n",
       "       [28, 29, 30, 31],\n",
       "       [32, 33, 34, 35],\n",
       "       [36, 37, 38, 39],\n",
       "       [40, 41, 42, 43],\n",
       "       [44, 45, 46, 47],\n",
       "       [48, 49, 50, 51],\n",
       "       [52, 53, 54, 55],\n",
       "       [56, 57, 58, 59],\n",
       "       [60, 61, 62, 63],\n",
       "       [64, 65, 66, 67],\n",
       "       [68, 69, 70, 71],\n",
       "       [72, 73, 74, 75],\n",
       "       [76, 77, 78, 79],\n",
       "       [80, 81, 82, 83],\n",
       "       [84, 85, 86, 87],\n",
       "       [88, 89, 90, 91],\n",
       "       [92, 93, 94, 95],\n",
       "       [96, 97, 98, 99]])"
      ]
     },
     "execution_count": 30,
     "metadata": {},
     "output_type": "execute_result"
    }
   ],
   "source": [
    "new_arr"
   ]
  },
  {
   "cell_type": "code",
   "execution_count": 4,
   "id": "20a122cc-5bfb-42b8-b523-d82a484d55f0",
   "metadata": {},
   "outputs": [],
   "source": []
  },
  {
   "cell_type": "code",
   "execution_count": 5,
   "id": "71789686-9645-4fb4-80d5-c3f0f59cfefa",
   "metadata": {},
   "outputs": [],
   "source": [
    "cols = ['James', 'John', 'Jonathan', 'Jabaty']"
   ]
  },
  {
   "cell_type": "code",
   "execution_count": 31,
   "id": "63784875-f717-4eec-a3bf-67fd4d55c08b",
   "metadata": {},
   "outputs": [],
   "source": [
    "df = pd.DataFrame(new_arr, columns=cols)"
   ]
  },
  {
   "cell_type": "code",
   "execution_count": 32,
   "id": "331680aa-96dd-4ed9-a07a-7dd3d70ecd71",
   "metadata": {},
   "outputs": [
    {
     "data": {
      "text/html": [
       "<div>\n",
       "<style scoped>\n",
       "    .dataframe tbody tr th:only-of-type {\n",
       "        vertical-align: middle;\n",
       "    }\n",
       "\n",
       "    .dataframe tbody tr th {\n",
       "        vertical-align: top;\n",
       "    }\n",
       "\n",
       "    .dataframe thead th {\n",
       "        text-align: right;\n",
       "    }\n",
       "</style>\n",
       "<table border=\"1\" class=\"dataframe\">\n",
       "  <thead>\n",
       "    <tr style=\"text-align: right;\">\n",
       "      <th></th>\n",
       "      <th>James</th>\n",
       "      <th>John</th>\n",
       "      <th>Jonathan</th>\n",
       "      <th>Jabaty</th>\n",
       "    </tr>\n",
       "  </thead>\n",
       "  <tbody>\n",
       "    <tr>\n",
       "      <th>0</th>\n",
       "      <td>0</td>\n",
       "      <td>1</td>\n",
       "      <td>2</td>\n",
       "      <td>3</td>\n",
       "    </tr>\n",
       "    <tr>\n",
       "      <th>1</th>\n",
       "      <td>4</td>\n",
       "      <td>5</td>\n",
       "      <td>6</td>\n",
       "      <td>7</td>\n",
       "    </tr>\n",
       "    <tr>\n",
       "      <th>2</th>\n",
       "      <td>8</td>\n",
       "      <td>9</td>\n",
       "      <td>10</td>\n",
       "      <td>11</td>\n",
       "    </tr>\n",
       "    <tr>\n",
       "      <th>3</th>\n",
       "      <td>12</td>\n",
       "      <td>13</td>\n",
       "      <td>14</td>\n",
       "      <td>15</td>\n",
       "    </tr>\n",
       "    <tr>\n",
       "      <th>4</th>\n",
       "      <td>16</td>\n",
       "      <td>17</td>\n",
       "      <td>18</td>\n",
       "      <td>19</td>\n",
       "    </tr>\n",
       "    <tr>\n",
       "      <th>5</th>\n",
       "      <td>20</td>\n",
       "      <td>21</td>\n",
       "      <td>22</td>\n",
       "      <td>23</td>\n",
       "    </tr>\n",
       "    <tr>\n",
       "      <th>6</th>\n",
       "      <td>24</td>\n",
       "      <td>25</td>\n",
       "      <td>26</td>\n",
       "      <td>27</td>\n",
       "    </tr>\n",
       "    <tr>\n",
       "      <th>7</th>\n",
       "      <td>28</td>\n",
       "      <td>29</td>\n",
       "      <td>30</td>\n",
       "      <td>31</td>\n",
       "    </tr>\n",
       "    <tr>\n",
       "      <th>8</th>\n",
       "      <td>32</td>\n",
       "      <td>33</td>\n",
       "      <td>34</td>\n",
       "      <td>35</td>\n",
       "    </tr>\n",
       "    <tr>\n",
       "      <th>9</th>\n",
       "      <td>36</td>\n",
       "      <td>37</td>\n",
       "      <td>38</td>\n",
       "      <td>39</td>\n",
       "    </tr>\n",
       "    <tr>\n",
       "      <th>10</th>\n",
       "      <td>40</td>\n",
       "      <td>41</td>\n",
       "      <td>42</td>\n",
       "      <td>43</td>\n",
       "    </tr>\n",
       "    <tr>\n",
       "      <th>11</th>\n",
       "      <td>44</td>\n",
       "      <td>45</td>\n",
       "      <td>46</td>\n",
       "      <td>47</td>\n",
       "    </tr>\n",
       "    <tr>\n",
       "      <th>12</th>\n",
       "      <td>48</td>\n",
       "      <td>49</td>\n",
       "      <td>50</td>\n",
       "      <td>51</td>\n",
       "    </tr>\n",
       "    <tr>\n",
       "      <th>13</th>\n",
       "      <td>52</td>\n",
       "      <td>53</td>\n",
       "      <td>54</td>\n",
       "      <td>55</td>\n",
       "    </tr>\n",
       "    <tr>\n",
       "      <th>14</th>\n",
       "      <td>56</td>\n",
       "      <td>57</td>\n",
       "      <td>58</td>\n",
       "      <td>59</td>\n",
       "    </tr>\n",
       "    <tr>\n",
       "      <th>15</th>\n",
       "      <td>60</td>\n",
       "      <td>61</td>\n",
       "      <td>62</td>\n",
       "      <td>63</td>\n",
       "    </tr>\n",
       "    <tr>\n",
       "      <th>16</th>\n",
       "      <td>64</td>\n",
       "      <td>65</td>\n",
       "      <td>66</td>\n",
       "      <td>67</td>\n",
       "    </tr>\n",
       "    <tr>\n",
       "      <th>17</th>\n",
       "      <td>68</td>\n",
       "      <td>69</td>\n",
       "      <td>70</td>\n",
       "      <td>71</td>\n",
       "    </tr>\n",
       "    <tr>\n",
       "      <th>18</th>\n",
       "      <td>72</td>\n",
       "      <td>73</td>\n",
       "      <td>74</td>\n",
       "      <td>75</td>\n",
       "    </tr>\n",
       "    <tr>\n",
       "      <th>19</th>\n",
       "      <td>76</td>\n",
       "      <td>77</td>\n",
       "      <td>78</td>\n",
       "      <td>79</td>\n",
       "    </tr>\n",
       "    <tr>\n",
       "      <th>20</th>\n",
       "      <td>80</td>\n",
       "      <td>81</td>\n",
       "      <td>82</td>\n",
       "      <td>83</td>\n",
       "    </tr>\n",
       "    <tr>\n",
       "      <th>21</th>\n",
       "      <td>84</td>\n",
       "      <td>85</td>\n",
       "      <td>86</td>\n",
       "      <td>87</td>\n",
       "    </tr>\n",
       "    <tr>\n",
       "      <th>22</th>\n",
       "      <td>88</td>\n",
       "      <td>89</td>\n",
       "      <td>90</td>\n",
       "      <td>91</td>\n",
       "    </tr>\n",
       "    <tr>\n",
       "      <th>23</th>\n",
       "      <td>92</td>\n",
       "      <td>93</td>\n",
       "      <td>94</td>\n",
       "      <td>95</td>\n",
       "    </tr>\n",
       "    <tr>\n",
       "      <th>24</th>\n",
       "      <td>96</td>\n",
       "      <td>97</td>\n",
       "      <td>98</td>\n",
       "      <td>99</td>\n",
       "    </tr>\n",
       "  </tbody>\n",
       "</table>\n",
       "</div>"
      ],
      "text/plain": [
       "    James  John  Jonathan  Jabaty\n",
       "0       0     1         2       3\n",
       "1       4     5         6       7\n",
       "2       8     9        10      11\n",
       "3      12    13        14      15\n",
       "4      16    17        18      19\n",
       "5      20    21        22      23\n",
       "6      24    25        26      27\n",
       "7      28    29        30      31\n",
       "8      32    33        34      35\n",
       "9      36    37        38      39\n",
       "10     40    41        42      43\n",
       "11     44    45        46      47\n",
       "12     48    49        50      51\n",
       "13     52    53        54      55\n",
       "14     56    57        58      59\n",
       "15     60    61        62      63\n",
       "16     64    65        66      67\n",
       "17     68    69        70      71\n",
       "18     72    73        74      75\n",
       "19     76    77        78      79\n",
       "20     80    81        82      83\n",
       "21     84    85        86      87\n",
       "22     88    89        90      91\n",
       "23     92    93        94      95\n",
       "24     96    97        98      99"
      ]
     },
     "execution_count": 32,
     "metadata": {},
     "output_type": "execute_result"
    }
   ],
   "source": [
    "df"
   ]
  },
  {
   "cell_type": "code",
   "execution_count": null,
   "id": "e3dbd889-3d5b-40db-8879-745c82c6cd8a",
   "metadata": {},
   "outputs": [],
   "source": []
  }
 ],
 "metadata": {
  "kernelspec": {
   "display_name": "Python 3 (ipykernel)",
   "language": "python",
   "name": "python3"
  },
  "language_info": {
   "codemirror_mode": {
    "name": "ipython",
    "version": 3
   },
   "file_extension": ".py",
   "mimetype": "text/x-python",
   "name": "python",
   "nbconvert_exporter": "python",
   "pygments_lexer": "ipython3",
   "version": "3.10.12"
  }
 },
 "nbformat": 4,
 "nbformat_minor": 5
}
