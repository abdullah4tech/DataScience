{
 "cells": [
  {
   "cell_type": "code",
   "execution_count": 1,
   "id": "3d35e356-7923-4edb-ac71-f33cd5655db9",
   "metadata": {},
   "outputs": [],
   "source": [
    "import numpy as np"
   ]
  },
  {
   "cell_type": "code",
   "execution_count": 2,
   "id": "8b14d748-21f5-4035-8e11-e4720d4dc849",
   "metadata": {},
   "outputs": [],
   "source": [
    "def allEven():\n",
    "    arr = np.arange(0,51)\n",
    "    return arr"
   ]
  },
  {
   "cell_type": "code",
   "execution_count": null,
   "id": "fef87747-2a76-4b92-8eae-88e1acce5dd4",
   "metadata": {},
   "outputs": [],
   "source": [
    "def allOdd():\n",
    "    arr = np.arange(0,51)\n",
    "    return arr"
   ]
  },
  {
   "cell_type": "code",
   "execution_count": 3,
   "id": "7119b0e5-f914-4c81-b73a-6629e18ae004",
   "metadata": {},
   "outputs": [
    {
     "data": {
      "text/plain": [
       "array([ 0,  1,  2,  3,  4,  5,  6,  7,  8,  9, 10, 11, 12, 13, 14, 15, 16,\n",
       "       17, 18, 19, 20, 21, 22, 23, 24, 25, 26, 27, 28, 29, 30, 31, 32, 33,\n",
       "       34, 35, 36, 37, 38, 39, 40, 41, 42, 43, 44, 45, 46, 47, 48, 49, 50])"
      ]
     },
     "execution_count": 3,
     "metadata": {},
     "output_type": "execute_result"
    }
   ],
   "source": [
    "allEven()"
   ]
  },
  {
   "cell_type": "code",
   "execution_count": 10,
   "id": "801d3971-8876-42ea-b8c8-b0a277de239e",
   "metadata": {},
   "outputs": [
    {
     "data": {
      "text/plain": [
       "(array([ 0,  2,  4,  6,  8, 10, 12, 14, 16, 18, 20, 22, 24, 26, 28, 30, 32,\n",
       "        34, 36, 38, 40, 42, 44, 46, 48, 50]),)"
      ]
     },
     "execution_count": 10,
     "metadata": {},
     "output_type": "execute_result"
    }
   ],
   "source": [
    "# Even numbers\n",
    "arr1 = allEven()\n",
    "even = np.where(arr1%2==0)\n",
    "even"
   ]
  },
  {
   "cell_type": "code",
   "execution_count": 12,
   "id": "594ff6a7-ce9c-4279-8461-2b6d50497b99",
   "metadata": {},
   "outputs": [
    {
     "data": {
      "text/plain": [
       "(array([ 1,  3,  5,  7,  9, 11, 13, 15, 17, 19, 21, 23, 25, 27, 29, 31, 33,\n",
       "        35, 37, 39, 41, 43, 45, 47, 49]),)"
      ]
     },
     "execution_count": 12,
     "metadata": {},
     "output_type": "execute_result"
    }
   ],
   "source": [
    "# Odd number \n",
    "arr2 = allEven()\n",
    "odd = np.where(arr2%2!=0)\n",
    "odd"
   ]
  },
  {
   "cell_type": "code",
   "execution_count": null,
   "id": "26a3aba5-823f-4840-a049-55af915ed911",
   "metadata": {},
   "outputs": [],
   "source": []
  }
 ],
 "metadata": {
  "kernelspec": {
   "display_name": "Python 3 (ipykernel)",
   "language": "python",
   "name": "python3"
  },
  "language_info": {
   "codemirror_mode": {
    "name": "ipython",
    "version": 3
   },
   "file_extension": ".py",
   "mimetype": "text/x-python",
   "name": "python",
   "nbconvert_exporter": "python",
   "pygments_lexer": "ipython3",
   "version": "3.10.12"
  }
 },
 "nbformat": 4,
 "nbformat_minor": 5
}
