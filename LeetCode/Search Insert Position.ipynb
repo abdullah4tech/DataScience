{
 "cells": [
  {
   "cell_type": "code",
   "execution_count": 67,
   "id": "84a87607-add6-4296-a5b2-cc11bb6a608f",
   "metadata": {},
   "outputs": [],
   "source": [
    "nums = [1,3,5,6, 8, 10, 12, 15, 17]\n",
    "target = 2"
   ]
  },
  {
   "cell_type": "code",
   "execution_count": 70,
   "id": "f69766b0-acd4-45d4-8b40-c9825a6cbd4c",
   "metadata": {},
   "outputs": [],
   "source": [
    "def search(n: list, target: int):\n",
    "    low = 0\n",
    "    high = len(n)-1 #->4 \n",
    "    while low <= high:\n",
    "        midpoint = (low + high) // 2\n",
    "        if n[midpoint] == target:\n",
    "            return midpoint\n",
    "        elif n[midpoint] < target:\n",
    "            low = midpoint + 1\n",
    "        elif n[midpoint] > target:\n",
    "            high = midpoint - 1\n",
    "        return -1"
   ]
  },
  {
   "cell_type": "code",
   "execution_count": 71,
   "id": "695867dd-4034-48c0-a399-3a1c2e61ceab",
   "metadata": {},
   "outputs": [
    {
     "data": {
      "text/plain": [
       "-1"
      ]
     },
     "execution_count": 71,
     "metadata": {},
     "output_type": "execute_result"
    }
   ],
   "source": [
    "search(nums, target)"
   ]
  },
  {
   "cell_type": "code",
   "execution_count": 72,
   "id": "7a1ce84d-b846-4a95-a581-cbfd8ad70e38",
   "metadata": {},
   "outputs": [
    {
     "data": {
      "text/plain": [
       "42"
      ]
     },
     "execution_count": 72,
     "metadata": {},
     "output_type": "execute_result"
    }
   ],
   "source": [
    "6*7"
   ]
  },
  {
   "cell_type": "code",
   "execution_count": 73,
   "id": "426c730c-e4e3-4314-9dd3-fb5320c49209",
   "metadata": {},
   "outputs": [
    {
     "data": {
      "text/plain": [
       "21"
      ]
     },
     "execution_count": 73,
     "metadata": {},
     "output_type": "execute_result"
    }
   ],
   "source": [
    "42//2"
   ]
  },
  {
   "cell_type": "code",
   "execution_count": 74,
   "id": "bb31feaa-bb5c-479f-a21e-b97275d04e09",
   "metadata": {},
   "outputs": [
    {
     "data": {
      "text/plain": [
       "3"
      ]
     },
     "execution_count": 74,
     "metadata": {},
     "output_type": "execute_result"
    }
   ],
   "source": [
    "21 - 18"
   ]
  },
  {
   "cell_type": "code",
   "execution_count": 184,
   "id": "38bdbb75-ce54-422c-89c6-799390b7e61d",
   "metadata": {},
   "outputs": [],
   "source": [
    "arr = [1,3,5,7,9,12]"
   ]
  },
  {
   "cell_type": "code",
   "execution_count": 189,
   "id": "818d3542-5215-4ddc-9deb-298a17cee794",
   "metadata": {},
   "outputs": [],
   "source": [
    "def check_if_el_exists(array: list):\n",
    "    count = 0\n",
    "    length = len(array) -1\n",
    "    for i in range(length):\n",
    "        num = array[i] + 1\n",
    "        if array[i] != num:\n",
    "            count = count + 1\n",
    "            print(num)\n",
    "    return count"
   ]
  },
  {
   "cell_type": "code",
   "execution_count": 190,
   "id": "037ab190-8727-4081-9668-88a4df89498a",
   "metadata": {},
   "outputs": [
    {
     "name": "stdout",
     "output_type": "stream",
     "text": [
      "2\n",
      "4\n",
      "6\n",
      "8\n",
      "10\n"
     ]
    },
    {
     "data": {
      "text/plain": [
       "5"
      ]
     },
     "execution_count": 190,
     "metadata": {},
     "output_type": "execute_result"
    }
   ],
   "source": [
    "check_if_el_exists(arr)"
   ]
  },
  {
   "cell_type": "code",
   "execution_count": 178,
   "id": "86c79f41-86ec-45a0-96ad-e3fedda8f82d",
   "metadata": {},
   "outputs": [
    {
     "data": {
      "text/plain": [
       "[2, 2, 2, 2, 2, 1, 3, 5, 7, 9, 11]"
      ]
     },
     "execution_count": 178,
     "metadata": {},
     "output_type": "execute_result"
    }
   ],
   "source": [
    "arr"
   ]
  },
  {
   "cell_type": "code",
   "execution_count": null,
   "id": "63f551ad-6d52-4622-bc72-044ab84e04e3",
   "metadata": {},
   "outputs": [],
   "source": []
  }
 ],
 "metadata": {
  "kernelspec": {
   "display_name": "Python 3 (ipykernel)",
   "language": "python",
   "name": "python3"
  },
  "language_info": {
   "codemirror_mode": {
    "name": "ipython",
    "version": 3
   },
   "file_extension": ".py",
   "mimetype": "text/x-python",
   "name": "python",
   "nbconvert_exporter": "python",
   "pygments_lexer": "ipython3",
   "version": "3.10.12"
  }
 },
 "nbformat": 4,
 "nbformat_minor": 5
}
