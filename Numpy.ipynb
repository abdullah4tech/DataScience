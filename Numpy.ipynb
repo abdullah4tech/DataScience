{
 "cells": [
  {
   "cell_type": "code",
   "execution_count": 3,
   "id": "2077d056-9593-4183-8cdb-2b4cc0c4ae0b",
   "metadata": {},
   "outputs": [],
   "source": [
    "import numpy as np"
   ]
  },
  {
   "cell_type": "markdown",
   "id": "42e546aa-b03c-46c1-8106-57026f5cc88b",
   "metadata": {},
   "source": [
    "# One dimensional array"
   ]
  },
  {
   "cell_type": "code",
   "execution_count": 6,
   "id": "838644f1-f022-475c-90fb-8069e955d660",
   "metadata": {},
   "outputs": [
    {
     "data": {
      "text/plain": [
       "array([ 1,  2,  3,  4,  5,  6,  7,  8,  9, 10])"
      ]
     },
     "execution_count": 6,
     "metadata": {},
     "output_type": "execute_result"
    }
   ],
   "source": [
    "arr = np.array([1,2,3,4,5,6,7,8,9,10])\n",
    "arr"
   ]
  },
  {
   "cell_type": "code",
   "execution_count": 9,
   "id": "73e2997c-94ea-49ea-9610-ee1db6a33356",
   "metadata": {},
   "outputs": [
    {
     "data": {
      "text/plain": [
       "array([  0,   1,   2,   3,   4,   5,   6,   7,   8,   9,  10,  11,  12,\n",
       "        13,  14,  15,  16,  17,  18,  19,  20,  21,  22,  23,  24,  25,\n",
       "        26,  27,  28,  29,  30,  31,  32,  33,  34,  35,  36,  37,  38,\n",
       "        39,  40,  41,  42,  43,  44,  45,  46,  47,  48,  49,  50,  51,\n",
       "        52,  53,  54,  55,  56,  57,  58,  59,  60,  61,  62,  63,  64,\n",
       "        65,  66,  67,  68,  69,  70,  71,  72,  73,  74,  75,  76,  77,\n",
       "        78,  79,  80,  81,  82,  83,  84,  85,  86,  87,  88,  89,  90,\n",
       "        91,  92,  93,  94,  95,  96,  97,  98,  99, 100])"
      ]
     },
     "execution_count": 9,
     "metadata": {},
     "output_type": "execute_result"
    }
   ],
   "source": [
    "arr_0_100 = np.arange(0, 101)\n",
    "arr_0_100"
   ]
  },
  {
   "cell_type": "code",
   "execution_count": 11,
   "id": "8e2bb1f8-ebb6-474b-b770-f40c3d0dc326",
   "metadata": {},
   "outputs": [
    {
     "data": {
      "text/plain": [
       "array([  0,   2,   4,   6,   8,  10,  12,  14,  16,  18,  20,  22,  24,\n",
       "        26,  28,  30,  32,  34,  36,  38,  40,  42,  44,  46,  48,  50,\n",
       "        52,  54,  56,  58,  60,  62,  64,  66,  68,  70,  72,  74,  76,\n",
       "        78,  80,  82,  84,  86,  88,  90,  92,  94,  96,  98, 100])"
      ]
     },
     "execution_count": 11,
     "metadata": {},
     "output_type": "execute_result"
    }
   ],
   "source": [
    "# To check for even numbers\n",
    "arr_even_num = np.arange(0, 101, 2)\n",
    "arr_even_num"
   ]
  },
  {
   "cell_type": "code",
   "execution_count": 13,
   "id": "1ffbf14f-69f4-4671-b964-491f0d3fff2b",
   "metadata": {},
   "outputs": [
    {
     "data": {
      "text/plain": [
       "(101,)"
      ]
     },
     "execution_count": 13,
     "metadata": {},
     "output_type": "execute_result"
    }
   ],
   "source": [
    "# Shape method \n",
    "arr_0_100.shape()"
   ]
  },
  {
   "cell_type": "markdown",
   "id": "be2a4922-ed03-4f91-8014-895edb71aec7",
   "metadata": {},
   "source": [
    "# Two dimensional array"
   ]
  },
  {
   "cell_type": "code",
   "execution_count": 15,
   "id": "a4769051-a5be-4371-b2a9-a2c57089baed",
   "metadata": {},
   "outputs": [
    {
     "data": {
      "text/plain": [
       "array([[ 1,  2,  3,  4,  5],\n",
       "       [ 6,  7,  8,  9, 10]])"
      ]
     },
     "execution_count": 15,
     "metadata": {},
     "output_type": "execute_result"
    }
   ],
   "source": [
    "arr_2D = np.array([[1,2,3,4,5],[6,7,8,9,10]])\n",
    "arr_2D"
   ]
  },
  {
   "cell_type": "code",
   "execution_count": 18,
   "id": "b7af6952-9e05-4d6b-9da6-d958f5d62eae",
   "metadata": {},
   "outputs": [
    {
     "data": {
      "text/plain": [
       "array([[ 1,  2,  3,  4,  5],\n",
       "       [ 6,  7,  8,  9, 10],\n",
       "       [11, 12, 13, 14, 15]])"
      ]
     },
     "execution_count": 18,
     "metadata": {},
     "output_type": "execute_result"
    }
   ],
   "source": [
    "# Three dimensional array\n",
    "arr_3D = np.array([[1,2,3,4,5],[6,7,8,9,10], [11,12,13,14,15]])\n",
    "arr_3D"
   ]
  },
  {
   "cell_type": "code",
   "execution_count": 19,
   "id": "6518456d-700b-4950-a98b-36a71cd6e699",
   "metadata": {},
   "outputs": [
    {
     "data": {
      "text/plain": [
       "(3, 5)"
      ]
     },
     "execution_count": 19,
     "metadata": {},
     "output_type": "execute_result"
    }
   ],
   "source": [
    "arr_3D.shape"
   ]
  },
  {
   "cell_type": "code",
   "execution_count": 21,
   "id": "b4c815c2-92e7-46cf-91c2-fb52850c0fb9",
   "metadata": {},
   "outputs": [
    {
     "data": {
      "text/plain": [
       "15"
      ]
     },
     "execution_count": 21,
     "metadata": {},
     "output_type": "execute_result"
    }
   ],
   "source": [
    "arr_3D.size"
   ]
  },
  {
   "cell_type": "code",
   "execution_count": 29,
   "id": "95842898-b3fe-4bb0-8279-e32d11f14bec",
   "metadata": {},
   "outputs": [
    {
     "data": {
      "text/plain": [
       "array([[ 1],\n",
       "       [ 2],\n",
       "       [ 3],\n",
       "       [ 4],\n",
       "       [ 5],\n",
       "       [ 6],\n",
       "       [ 7],\n",
       "       [ 8],\n",
       "       [ 9],\n",
       "       [10],\n",
       "       [11],\n",
       "       [12],\n",
       "       [13],\n",
       "       [14],\n",
       "       [15]])"
      ]
     },
     "execution_count": 29,
     "metadata": {},
     "output_type": "execute_result"
    }
   ],
   "source": [
    "arr_3D.reshape(15,1)"
   ]
  },
  {
   "cell_type": "code",
   "execution_count": 40,
   "id": "28720d4a-ebfc-4578-87f5-3f34069c7ad6",
   "metadata": {},
   "outputs": [
    {
     "data": {
      "text/plain": [
       "array([[ 50,  51,  52,  53,  54,  55,  56,  57,  58,  59,  60,  61,  62,\n",
       "         63,  64,  65,  66,  67,  68,  69,  70],\n",
       "       [ 80,  81,  82,  83,  84,  85,  86,  87,  88,  89,  90,  91,  92,\n",
       "         93,  94,  95,  96,  97,  98,  99, 100]])"
      ]
     },
     "execution_count": 40,
     "metadata": {},
     "output_type": "execute_result"
    }
   ],
   "source": [
    "arr_2D_ex = np.array([np.arange(50, 71), np.arange(80, 101)])\n",
    "arr_2D_ex"
   ]
  },
  {
   "cell_type": "code",
   "execution_count": 42,
   "id": "c8970d09-aea6-4da9-8a1b-4d1d7c63c941",
   "metadata": {},
   "outputs": [],
   "source": [
    "# Empty ARRAY"
   ]
  },
  {
   "cell_type": "code",
   "execution_count": 3,
   "id": "1dfba310-dcce-4c4b-8b5d-dbbe74d817cb",
   "metadata": {},
   "outputs": [
    {
     "data": {
      "text/plain": [
       "array([[0., 0., 0.],\n",
       "       [0., 0., 0.]])"
      ]
     },
     "execution_count": 3,
     "metadata": {},
     "output_type": "execute_result"
    }
   ],
   "source": [
    "arr_zeros = np.zeros((2,3))\n",
    "arr_zeros"
   ]
  },
  {
   "cell_type": "code",
   "execution_count": 68,
   "id": "65e9f3be-829b-4537-be0a-c9f2d1089492",
   "metadata": {},
   "outputs": [
    {
     "data": {
      "text/plain": [
       "array([1., 1., 1., 1.])"
      ]
     },
     "execution_count": 68,
     "metadata": {},
     "output_type": "execute_result"
    }
   ],
   "source": [
    "arr_ones = np.ones(4)*1\n",
    "arr_ones"
   ]
  },
  {
   "cell_type": "code",
   "execution_count": 61,
   "id": "1f697191-7981-465a-a3af-25eaca76f88d",
   "metadata": {},
   "outputs": [
    {
     "data": {
      "text/plain": [
       "array([[4., 0., 0., 0.],\n",
       "       [0., 4., 0., 0.],\n",
       "       [0., 0., 4., 0.],\n",
       "       [0., 0., 0., 4.]])"
      ]
     },
     "execution_count": 61,
     "metadata": {},
     "output_type": "execute_result"
    }
   ],
   "source": [
    "arr_eyes = np.eye(4)*4\n",
    "arr_eyes"
   ]
  },
  {
   "cell_type": "code",
   "execution_count": 63,
   "id": "f62df55c-d758-43c5-b2bb-667d15921bc9",
   "metadata": {},
   "outputs": [
    {
     "data": {
      "text/plain": [
       "array([0., 0., 0., 0., 0., 0., 0., 0., 0., 0., 0., 0., 0., 0., 0., 0., 0.,\n",
       "       0., 0., 0.])"
      ]
     },
     "execution_count": 63,
     "metadata": {},
     "output_type": "execute_result"
    }
   ],
   "source": [
    "# Write a array of 20 zeros\n",
    "arr_zeros_20 = np.zeros(20)\n",
    "arr_zeros_20"
   ]
  },
  {
   "cell_type": "code",
   "execution_count": 71,
   "id": "977c9920-4338-4e84-8f9f-fd09d45bd53d",
   "metadata": {},
   "outputs": [
    {
     "data": {
      "text/plain": [
       "array([[10., 10., 10., 10., 10., 10., 10., 10., 10., 10., 10., 10., 10.,\n",
       "        10., 10., 10., 10., 10., 10., 10.],\n",
       "       [10., 10., 10., 10., 10., 10., 10., 10., 10., 10., 10., 10., 10.,\n",
       "        10., 10., 10., 10., 10., 10., 10.]])"
      ]
     },
     "execution_count": 71,
     "metadata": {},
     "output_type": "execute_result"
    }
   ],
   "source": [
    "# Write a array of 20 elements of 10 in the form of 2D array\n",
    "gen = np.array([np.ones(20)*10, np.ones(20)*10])\n",
    "gen"
   ]
  },
  {
   "cell_type": "code",
   "execution_count": 74,
   "id": "a73805d9-a784-4664-aeed-1a3b5d3fd45f",
   "metadata": {},
   "outputs": [
    {
     "data": {
      "text/plain": [
       "array([ 50.        ,  51.02040816,  52.04081633,  53.06122449,\n",
       "        54.08163265,  55.10204082,  56.12244898,  57.14285714,\n",
       "        58.16326531,  59.18367347,  60.20408163,  61.2244898 ,\n",
       "        62.24489796,  63.26530612,  64.28571429,  65.30612245,\n",
       "        66.32653061,  67.34693878,  68.36734694,  69.3877551 ,\n",
       "        70.40816327,  71.42857143,  72.44897959,  73.46938776,\n",
       "        74.48979592,  75.51020408,  76.53061224,  77.55102041,\n",
       "        78.57142857,  79.59183673,  80.6122449 ,  81.63265306,\n",
       "        82.65306122,  83.67346939,  84.69387755,  85.71428571,\n",
       "        86.73469388,  87.75510204,  88.7755102 ,  89.79591837,\n",
       "        90.81632653,  91.83673469,  92.85714286,  93.87755102,\n",
       "        94.89795918,  95.91836735,  96.93877551,  97.95918367,\n",
       "        98.97959184, 100.        ])"
      ]
     },
     "execution_count": 74,
     "metadata": {},
     "output_type": "execute_result"
    }
   ],
   "source": [
    "np.linspace(50, 100)"
   ]
  },
  {
   "cell_type": "code",
   "execution_count": 77,
   "id": "01170dce-983c-43c2-ba54-5f12b3bad488",
   "metadata": {},
   "outputs": [
    {
     "data": {
      "text/plain": [
       "array([0., 0., 0., 0., 0., 0., 0., 0., 0., 0.])"
      ]
     },
     "execution_count": 77,
     "metadata": {},
     "output_type": "execute_result"
    }
   ],
   "source": [
    "# Create an array of 10 zeros\n",
    "zero_10s = np.ones(10)*10\n",
    "zer"
   ]
  },
  {
   "cell_type": "code",
   "execution_count": 78,
   "id": "26dc418d-91f8-4641-bc33-b643971ad84b",
   "metadata": {},
   "outputs": [
    {
     "name": "stdout",
     "output_type": "stream",
     "text": [
      "Requirement already satisfied: pandas in /home/abdullah/dev_env/lib/python3.10/site-packages (2.2.3)\n",
      "Requirement already satisfied: numpy>=1.22.4 in /home/abdullah/dev_env/lib/python3.10/site-packages (from pandas) (2.1.2)\n",
      "Requirement already satisfied: tzdata>=2022.7 in /home/abdullah/dev_env/lib/python3.10/site-packages (from pandas) (2024.2)\n",
      "Requirement already satisfied: pytz>=2020.1 in /home/abdullah/dev_env/lib/python3.10/site-packages (from pandas) (2024.2)\n",
      "Requirement already satisfied: python-dateutil>=2.8.2 in /home/abdullah/dev_env/lib/python3.10/site-packages (from pandas) (2.9.0.post0)\n",
      "Requirement already satisfied: six>=1.5 in /home/abdullah/dev_env/lib/python3.10/site-packages (from python-dateutil>=2.8.2->pandas) (1.16.0)\n"
     ]
    }
   ],
   "source": [
    "!pip install pandas"
   ]
  },
  {
   "cell_type": "code",
   "execution_count": 79,
   "id": "2e16bc1e-6410-4305-a39f-71c084b0a0af",
   "metadata": {},
   "outputs": [
    {
     "data": {
      "text/plain": [
       "2"
      ]
     },
     "execution_count": 79,
     "metadata": {},
     "output_type": "execute_result"
    }
   ],
   "source": [
    "# Get array dimension\n",
    "arr_eyes.ndim"
   ]
  },
  {
   "cell_type": "code",
   "execution_count": 80,
   "id": "eb80e458-804b-4861-a6c6-b1961b1dd6dc",
   "metadata": {},
   "outputs": [
    {
     "data": {
      "text/plain": [
       "8"
      ]
     },
     "execution_count": 80,
     "metadata": {},
     "output_type": "execute_result"
    }
   ],
   "source": [
    "arr_2D.itemsize"
   ]
  },
  {
   "cell_type": "code",
   "execution_count": 81,
   "id": "76de8fda-10ba-4d6b-ab74-044db155e46f",
   "metadata": {},
   "outputs": [
    {
     "data": {
      "text/plain": [
       "15"
      ]
     },
     "execution_count": 81,
     "metadata": {},
     "output_type": "execute_result"
    }
   ],
   "source": [
    "arr_2D.size"
   ]
  },
  {
   "cell_type": "code",
   "execution_count": 84,
   "id": "a59766bf-aa39-44a1-881b-ceaa23b9afaa",
   "metadata": {},
   "outputs": [
    {
     "data": {
      "text/plain": [
       "dtype('int64')"
      ]
     },
     "execution_count": 84,
     "metadata": {},
     "output_type": "execute_result"
    }
   ],
   "source": [
    "arr_2D.dtype"
   ]
  },
  {
   "cell_type": "code",
   "execution_count": 85,
   "id": "151f23e2-3d77-4105-8473-913014ec4001",
   "metadata": {},
   "outputs": [],
   "source": [
    "e = np.array([1.0, 1.1, 1.2])"
   ]
  },
  {
   "cell_type": "code",
   "execution_count": 86,
   "id": "6dcb8776-e94f-4ad1-9235-20cbc42063c8",
   "metadata": {},
   "outputs": [
    {
     "data": {
      "text/plain": [
       "dtype('float64')"
      ]
     },
     "execution_count": 86,
     "metadata": {},
     "output_type": "execute_result"
    }
   ],
   "source": [
    "e.dtype"
   ]
  },
  {
   "cell_type": "markdown",
   "id": "16d6bc0f-fb32-434f-adb9-0952c94570ac",
   "metadata": {},
   "source": [
    "## Accessing/Changing specific elements; row, columns, etc. "
   ]
  },
  {
   "cell_type": "code",
   "execution_count": 90,
   "id": "da6f2c2c-8781-4c97-87b7-398d09cb9446",
   "metadata": {},
   "outputs": [
    {
     "name": "stdout",
     "output_type": "stream",
     "text": [
      "[[ 1  2  3  4  5  6  7]\n",
      " [ 8  9 10 11 12 13 14]]\n"
     ]
    }
   ],
   "source": [
    "a = np.array([[1,2,3,4,5,6,7],[8,9,10,11,12,13,14]])\n",
    "print(a)"
   ]
  },
  {
   "cell_type": "code",
   "execution_count": 92,
   "id": "e2033569-8e40-4cfe-8afd-94241a827e9f",
   "metadata": {},
   "outputs": [
    {
     "data": {
      "text/plain": [
       "np.int64(13)"
      ]
     },
     "execution_count": 92,
     "metadata": {},
     "output_type": "execute_result"
    }
   ],
   "source": [
    "# Get specific element [row, column] using index\n",
    "a[1, 5]"
   ]
  },
  {
   "cell_type": "code",
   "execution_count": 95,
   "id": "17b61f69-00da-4bde-b23f-3b19c5635a7a",
   "metadata": {},
   "outputs": [
    {
     "data": {
      "text/plain": [
       "array([ 8,  9, 10, 11, 12, 13, 14])"
      ]
     },
     "execution_count": 95,
     "metadata": {},
     "output_type": "execute_result"
    }
   ],
   "source": [
    "# Get specific element row\n",
    "a[1,] # or [1, :]"
   ]
  },
  {
   "cell_type": "code",
   "execution_count": 98,
   "id": "dd57a499-62f4-4547-b46f-365347e4d74d",
   "metadata": {},
   "outputs": [
    {
     "data": {
      "text/plain": [
       "array([ 3, 10])"
      ]
     },
     "execution_count": 98,
     "metadata": {},
     "output_type": "execute_result"
    }
   ],
   "source": [
    "# Get specific element column\n",
    "a[:, 2]"
   ]
  },
  {
   "cell_type": "code",
   "execution_count": null,
   "id": "31d8d113-b44c-477d-bb82-caa243509c84",
   "metadata": {},
   "outputs": [],
   "source": [
    "# Numpy end"
   ]
  },
  {
   "cell_type": "code",
   "execution_count": 2,
   "id": "d27d6c4e-2eb6-4e2e-adea-e466ae9e43a6",
   "metadata": {},
   "outputs": [
    {
     "data": {
      "text/plain": [
       "array([100000,  60000,  10000])"
      ]
     },
     "execution_count": 2,
     "metadata": {},
     "output_type": "execute_result"
    }
   ],
   "source": [
    "salary = np.array([5000, 4000, 1000])\n",
    "tax = np.array([20, 15, 10])\n",
    "profit = np.multiply(salary, tax)\n",
    "profit"
   ]
  },
  {
   "cell_type": "code",
   "execution_count": 3,
   "id": "29c04027-544d-4161-83fa-a9b8b26575f8",
   "metadata": {},
   "outputs": [],
   "source": [
    "#discount = (profit * tax) * 100"
   ]
  },
  {
   "cell_type": "code",
   "execution_count": 5,
   "id": "3c781293-0b56-413a-9dd1-9e504c50df04",
   "metadata": {},
   "outputs": [],
   "source": [
    "discount = np.multiply(profit, tax) * 100"
   ]
  },
  {
   "cell_type": "code",
   "execution_count": 6,
   "id": "b1026cfe-d218-4b73-990f-6b3eeed4041a",
   "metadata": {},
   "outputs": [
    {
     "data": {
      "text/plain": [
       "array([200000000,  90000000,  10000000])"
      ]
     },
     "execution_count": 6,
     "metadata": {},
     "output_type": "execute_result"
    }
   ],
   "source": [
    "discount"
   ]
  },
  {
   "cell_type": "code",
   "execution_count": 14,
   "id": "6cdcd3d1-486d-4aec-bcfb-2cfe7911adbc",
   "metadata": {},
   "outputs": [
    {
     "data": {
      "text/plain": [
       "np.float64(7999.5)"
      ]
     },
     "execution_count": 14,
     "metadata": {},
     "output_type": "execute_result"
    }
   ],
   "source": [
    "#id = np.array([001,002,003,004,005,006,007,008,009,010,011,012])\n",
    "price = np.array([8000, 5000, 3000, 9000, 16000, 11000, 12000, 23000, 35000, 40000, 23000, 3500])"
   ]
  },
  {
   "cell_type": "code",
   "execution_count": 29,
   "id": "d43f17c5-b915-495d-b2f1-a52f9568fa26",
   "metadata": {},
   "outputs": [
    {
     "data": {
      "text/plain": [
       "np.float64(7999.5)"
      ]
     },
     "execution_count": 29,
     "metadata": {},
     "output_type": "execute_result"
    }
   ],
   "source": [
    "salary = np.subtract(price[0], 0.5)\n",
    "salary"
   ]
  },
  {
   "cell_type": "code",
   "execution_count": 21,
   "id": "521b98e0-0b9c-4a89-95a4-b1b97e31d099",
   "metadata": {},
   "outputs": [
    {
     "data": {
      "text/plain": [
       "np.float64(0.5)"
      ]
     },
     "execution_count": 21,
     "metadata": {},
     "output_type": "execute_result"
    }
   ],
   "source": [
    "profit = np.subtract(price[0], salary)\n",
    "profit"
   ]
  },
  {
   "cell_type": "code",
   "execution_count": 22,
   "id": "362aa735-aee1-4586-82ef-be78975d592c",
   "metadata": {},
   "outputs": [
    {
     "data": {
      "text/plain": [
       "np.float64(7999.0)"
      ]
     },
     "execution_count": 22,
     "metadata": {},
     "output_type": "execute_result"
    }
   ],
   "source": [
    "net_profit = np.subtract(salary, profit)\n",
    "net_profit"
   ]
  },
  {
   "cell_type": "code",
   "execution_count": 23,
   "id": "790ee5ab-9bb6-42cf-b9ee-8d301abdef6b",
   "metadata": {},
   "outputs": [
    {
     "data": {
      "text/plain": [
       "np.float64(15998.5)"
      ]
     },
     "execution_count": 23,
     "metadata": {},
     "output_type": "execute_result"
    }
   ],
   "source": [
    "discount = np.add(net_profit, salary)\n",
    "discount"
   ]
  },
  {
   "cell_type": "code",
   "execution_count": 24,
   "id": "2a9b1d8b-7ed7-4db8-8f9a-6e4adcf6bef6",
   "metadata": {},
   "outputs": [
    {
     "data": {
      "text/plain": [
       "np.float64(15999.5)"
      ]
     },
     "execution_count": 24,
     "metadata": {},
     "output_type": "execute_result"
    }
   ],
   "source": [
    "bill = np.add(price[0], salary)\n",
    "bill"
   ]
  },
  {
   "cell_type": "code",
   "execution_count": 31,
   "id": "d5d97eb2-16d1-41fa-97c7-c60f599de487",
   "metadata": {},
   "outputs": [
    {
     "data": {
      "text/plain": [
       "np.float64(31997.5)"
      ]
     },
     "execution_count": 31,
     "metadata": {},
     "output_type": "execute_result"
    }
   ],
   "source": [
    "total = salary + net_profit + profit + discount\n",
    "total"
   ]
  },
  {
   "cell_type": "code",
   "execution_count": 87,
   "id": "1d69102c-be9b-4831-ab41-99b15b345a8d",
   "metadata": {},
   "outputs": [
    {
     "name": "stdout",
     "output_type": "stream",
     "text": [
      "[ 7999.5  4999.5  2999.5  8999.5 15999.5 10999.5 11999.5 22999.5 34999.5\n",
      " 39999.5 22999.5  3499.5]\n",
      "[ 5.00000e-01  3.00050e+03  5.00050e+03 -9.99500e+02 -7.99950e+03\n",
      " -2.99950e+03 -3.99950e+03 -1.49995e+04 -2.69995e+04 -3.19995e+04\n",
      " -1.49995e+04  4.50050e+03 -2.99950e+03  5.00000e-01  2.00050e+03\n",
      " -3.99950e+03 -1.09995e+04 -5.99950e+03 -6.99950e+03 -1.79995e+04\n",
      " -2.99995e+04 -3.49995e+04 -1.79995e+04  1.50050e+03 -4.99950e+03\n",
      " -1.99950e+03  5.00000e-01 -5.99950e+03 -1.29995e+04 -7.99950e+03\n",
      " -8.99950e+03 -1.99995e+04 -3.19995e+04 -3.69995e+04 -1.99995e+04\n",
      " -4.99500e+02  1.00050e+03  4.00050e+03  6.00050e+03  5.00000e-01\n",
      " -6.99950e+03 -1.99950e+03 -2.99950e+03 -1.39995e+04 -2.59995e+04\n",
      " -3.09995e+04 -1.39995e+04  5.50050e+03  8.00050e+03  1.10005e+04\n",
      "  1.30005e+04  7.00050e+03  5.00000e-01  5.00050e+03  4.00050e+03\n",
      " -6.99950e+03 -1.89995e+04 -2.39995e+04 -6.99950e+03  1.25005e+04\n",
      "  3.00050e+03  6.00050e+03  8.00050e+03  2.00050e+03 -4.99950e+03\n",
      "  5.00000e-01 -9.99500e+02 -1.19995e+04 -2.39995e+04 -2.89995e+04\n",
      " -1.19995e+04  7.50050e+03  4.00050e+03  7.00050e+03  9.00050e+03\n",
      "  3.00050e+03 -3.99950e+03  1.00050e+03  5.00000e-01 -1.09995e+04\n",
      " -2.29995e+04 -2.79995e+04 -1.09995e+04  8.50050e+03  1.50005e+04\n",
      "  1.80005e+04  2.00005e+04  1.40005e+04  7.00050e+03  1.20005e+04\n",
      "  1.10005e+04  5.00000e-01 -1.19995e+04 -1.69995e+04  5.00000e-01\n",
      "  1.95005e+04  2.70005e+04  3.00005e+04  3.20005e+04  2.60005e+04\n",
      "  1.90005e+04  2.40005e+04  2.30005e+04  1.20005e+04  5.00000e-01\n",
      " -4.99950e+03  1.20005e+04  3.15005e+04  3.20005e+04  3.50005e+04\n",
      "  3.70005e+04  3.10005e+04  2.40005e+04  2.90005e+04  2.80005e+04\n",
      "  1.70005e+04  5.00050e+03  5.00000e-01  1.70005e+04  3.65005e+04\n",
      "  1.50005e+04  1.80005e+04  2.00005e+04  1.40005e+04  7.00050e+03\n",
      "  1.20005e+04  1.10005e+04  5.00000e-01 -1.19995e+04 -1.69995e+04\n",
      "  5.00000e-01  1.95005e+04 -4.49950e+03 -1.49950e+03  5.00500e+02\n",
      " -5.49950e+03 -1.24995e+04 -7.49950e+03 -8.49950e+03 -1.94995e+04\n",
      " -3.14995e+04 -3.64995e+04 -1.94995e+04  5.00000e-01]\n"
     ]
    }
   ],
   "source": [
    "id = np.arange(100, 112)\n",
    "price = np.array([8000, 5000, 3000, 9000, 16000, 11000, 12000, 23000, 35000, 40000, 23000, 3500])\n",
    "ls_salary = []\n",
    "percentage = 0.5\n",
    "net_profit = np.array([])\n",
    "ls_profit = []\n",
    "discount = np.array([])\n",
    "bill = np.array([])\n",
    "total = np.array([])\n",
    "\n",
    "for p in price:\n",
    "    new_sal = p - percentage\n",
    "    ls_salary.append(new_sal)\n",
    "\n",
    "for i in range(0, len(price)):\n",
    "    for s in salary:\n",
    "        new_profit = price[i] - s\n",
    "        ls_profit.append(new_profit)\n",
    "        \n",
    "\n",
    "salary = np.array(ls_salary)\n",
    "profit = np.array(ls_profit)\n",
    "print(salary)\n",
    "print(profit)"
   ]
  },
  {
   "cell_type": "code",
   "execution_count": 77,
   "id": "4dd27b93-1aa1-4985-8edd-a6d33a8b485a",
   "metadata": {},
   "outputs": [
    {
     "data": {
      "text/plain": [
       "{'id': array([100, 101, 102, 103, 104, 105, 106, 107, 108, 109, 110, 111]),\n",
       " 'price (le)': array([ 8000,  5000,  3000,  9000, 16000, 11000, 12000, 23000, 35000,\n",
       "        40000, 23000,  3500]),\n",
       " 'salary': array([ 7999.5,  4999.5,  2999.5,  8999.5, 15999.5, 10999.5, 11999.5,\n",
       "        22999.5, 34999.5, 39999.5, 22999.5,  3499.5]),\n",
       " 'net_profit': array([], dtype=float64),\n",
       " 'profit': array([], dtype=float64),\n",
       " 'discount': array([], dtype=float64),\n",
       " 'bill': array([], dtype=float64),\n",
       " 'total': array([], dtype=float64)}"
      ]
     },
     "execution_count": 77,
     "metadata": {},
     "output_type": "execute_result"
    }
   ],
   "source": [
    "table = {\n",
    "    \"id\": id,\n",
    "    \"price (le)\": price,\n",
    "    \"salary\": salary,\n",
    "    \"net_profit\": net_profit,\n",
    "    \"profit\": profit,\n",
    "    \"discount\": discount,\n",
    "    \"bill\": bill,\n",
    "    \"total\": total\n",
    "}\n",
    "\n",
    "table"
   ]
  },
  {
   "cell_type": "code",
   "execution_count": 4,
   "id": "dc24c339-f7d7-4e76-9a08-e36ca750545e",
   "metadata": {},
   "outputs": [],
   "source": [
    "ar1 = np.arange(20, 81)"
   ]
  },
  {
   "cell_type": "code",
   "execution_count": 5,
   "id": "9d722b9a-9eb5-4c65-a0f7-88af1583d5e8",
   "metadata": {},
   "outputs": [],
   "source": [
    "ar2 = np.arange(10,53)"
   ]
  },
  {
   "cell_type": "code",
   "execution_count": 6,
   "id": "e2894295-e03e-4afa-88a5-53be3711b7da",
   "metadata": {},
   "outputs": [],
   "source": [
    "ar3 = np.arange(70, 30, -1)"
   ]
  },
  {
   "cell_type": "code",
   "execution_count": 8,
   "id": "fde88078-6de2-4a8b-ad14-4515dc084aee",
   "metadata": {},
   "outputs": [],
   "source": [
    "new_1d = np.concatenate([ar1, ar2, ar3])"
   ]
  },
  {
   "cell_type": "code",
   "execution_count": 9,
   "id": "151f34a8-c159-4a61-b4fd-00c141b12b38",
   "metadata": {},
   "outputs": [
    {
     "data": {
      "text/plain": [
       "array([20, 21, 22, 23, 24, 25, 26, 27, 28, 29, 30, 31, 32, 33, 34, 35, 36,\n",
       "       37, 38, 39, 40, 41, 42, 43, 44, 45, 46, 47, 48, 49, 50, 51, 52, 53,\n",
       "       54, 55, 56, 57, 58, 59, 60, 61, 62, 63, 64, 65, 66, 67, 68, 69, 70,\n",
       "       71, 72, 73, 74, 75, 76, 77, 78, 79, 80, 10, 11, 12, 13, 14, 15, 16,\n",
       "       17, 18, 19, 20, 21, 22, 23, 24, 25, 26, 27, 28, 29, 30, 31, 32, 33,\n",
       "       34, 35, 36, 37, 38, 39, 40, 41, 42, 43, 44, 45, 46, 47, 48, 49, 50,\n",
       "       51, 52, 70, 69, 68, 67, 66, 65, 64, 63, 62, 61, 60, 59, 58, 57, 56,\n",
       "       55, 54, 53, 52, 51, 50, 49, 48, 47, 46, 45, 44, 43, 42, 41, 40, 39,\n",
       "       38, 37, 36, 35, 34, 33, 32, 31])"
      ]
     },
     "execution_count": 9,
     "metadata": {},
     "output_type": "execute_result"
    }
   ],
   "source": [
    "new_1d"
   ]
  },
  {
   "cell_type": "code",
   "execution_count": 21,
   "id": "9cdba0c8-bc64-499d-bd51-39a47157c99b",
   "metadata": {},
   "outputs": [],
   "source": [
    "new_reshape_ar1 = ar1.reshape(1, 61)"
   ]
  },
  {
   "cell_type": "code",
   "execution_count": 22,
   "id": "ac136942-e060-4238-a930-1cd849919d08",
   "metadata": {},
   "outputs": [
    {
     "ename": "ValueError",
     "evalue": "cannot reshape array of size 43 into shape (1,61)",
     "output_type": "error",
     "traceback": [
      "\u001b[0;31m---------------------------------------------------------------------------\u001b[0m",
      "\u001b[0;31mValueError\u001b[0m                                Traceback (most recent call last)",
      "Cell \u001b[0;32mIn[22], line 1\u001b[0m\n\u001b[0;32m----> 1\u001b[0m new_arshape_ar2 \u001b[38;5;241m=\u001b[39m \u001b[43mar2\u001b[49m\u001b[38;5;241;43m.\u001b[39;49m\u001b[43mreshape\u001b[49m\u001b[43m(\u001b[49m\u001b[38;5;241;43m1\u001b[39;49m\u001b[43m,\u001b[49m\u001b[43m \u001b[49m\u001b[38;5;241;43m61\u001b[39;49m\u001b[43m)\u001b[49m\n",
      "\u001b[0;31mValueError\u001b[0m: cannot reshape array of size 43 into shape (1,61)"
     ]
    }
   ],
   "source": [
    "new_arshape_ar2 = ar2.reshape(1, 43)"
   ]
  },
  {
   "cell_type": "code",
   "execution_count": 34,
   "id": "921630d8-378a-43b2-b8b4-282906d23eaa",
   "metadata": {},
   "outputs": [
    {
     "data": {
      "text/plain": [
       "array([[20, 21, 22, 23, 24, 25, 26, 27, 28, 29, 30, 31],\n",
       "       [32, 33, 34, 35, 36, 37, 38, 39, 40, 41, 42, 43],\n",
       "       [44, 45, 46, 47, 48, 49, 50, 51, 52, 53, 54, 55],\n",
       "       [56, 57, 58, 59, 60, 61, 62, 63, 64, 65, 66, 67],\n",
       "       [68, 69, 70, 71, 72, 73, 74, 75, 76, 77, 78, 79],\n",
       "       [80, 10, 11, 12, 13, 14, 15, 16, 17, 18, 19, 20],\n",
       "       [21, 22, 23, 24, 25, 26, 27, 28, 29, 30, 31, 32],\n",
       "       [33, 34, 35, 36, 37, 38, 39, 40, 41, 42, 43, 44],\n",
       "       [45, 46, 47, 48, 49, 50, 51, 52, 70, 69, 68, 67],\n",
       "       [66, 65, 64, 63, 62, 61, 60, 59, 58, 57, 56, 55],\n",
       "       [54, 53, 52, 51, 50, 49, 48, 47, 46, 45, 44, 43],\n",
       "       [42, 41, 40, 39, 38, 37, 36, 35, 34, 33, 32, 31]])"
      ]
     },
     "execution_count": 34,
     "metadata": {},
     "output_type": "execute_result"
    }
   ],
   "source": [
    "new_2d = new_1d.reshape(12, 12)\n",
    "new_2d"
   ]
  },
  {
   "cell_type": "code",
   "execution_count": 42,
   "id": "49580f18-dffe-4fc5-98b5-08ba271573fa",
   "metadata": {},
   "outputs": [],
   "source": [
    "# Filter even numbers from new_2d array\n",
    "filter_even = new_2d[new_2d % 2 == 0]"
   ]
  },
  {
   "cell_type": "code",
   "execution_count": 43,
   "id": "f04a8f59-34c4-46b8-84d6-6bf322097116",
   "metadata": {},
   "outputs": [
    {
     "data": {
      "text/plain": [
       "array([20, 22, 24, 26, 28, 30, 32, 34, 36, 38, 40, 42, 44, 46, 48, 50, 52,\n",
       "       54, 56, 58, 60, 62, 64, 66, 68, 70, 72, 74, 76, 78, 80, 10, 12, 14,\n",
       "       16, 18, 20, 22, 24, 26, 28, 30, 32, 34, 36, 38, 40, 42, 44, 46, 48,\n",
       "       50, 52, 70, 68, 66, 64, 62, 60, 58, 56, 54, 52, 50, 48, 46, 44, 42,\n",
       "       40, 38, 36, 34, 32])"
      ]
     },
     "execution_count": 43,
     "metadata": {},
     "output_type": "execute_result"
    }
   ],
   "source": [
    "filter_even"
   ]
  },
  {
   "cell_type": "code",
   "execution_count": null,
   "id": "c44e9258-0821-474b-9c01-75ca96e69cc9",
   "metadata": {},
   "outputs": [],
   "source": []
  }
 ],
 "metadata": {
  "kernelspec": {
   "display_name": "Python 3 (ipykernel)",
   "language": "python",
   "name": "python3"
  },
  "language_info": {
   "codemirror_mode": {
    "name": "ipython",
    "version": 3
   },
   "file_extension": ".py",
   "mimetype": "text/x-python",
   "name": "python",
   "nbconvert_exporter": "python",
   "pygments_lexer": "ipython3",
   "version": "3.10.12"
  }
 },
 "nbformat": 4,
 "nbformat_minor": 5
}
